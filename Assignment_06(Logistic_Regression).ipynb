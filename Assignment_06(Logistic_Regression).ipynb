{
  "cells": [
    {
      "cell_type": "markdown",
      "source": [
        "Q) 1"
      ],
      "metadata": {
        "id": "VG_HCW4wvUa-"
      }
    },
    {
      "cell_type": "code",
      "execution_count": null,
      "metadata": {
        "colab": {
          "background_save": true
        },
        "id": "YQ69XE95Wv16"
      },
      "outputs": [],
      "source": [
        "# Importing the libraries\n",
        "import pandas as pd\n",
        "import numpy as np\n",
        "import matplotlib.pyplot as plt\n",
        "import seaborn as sns\n",
        "from sklearn.linear_model import LogisticRegression\n",
        "from sklearn.metrics import confusion_matrix\n",
        "from sklearn.metrics import roc_curve\n",
        "from sklearn.metrics import roc_auc_score"
      ]
    },
    {
      "cell_type": "code",
      "execution_count": null,
      "metadata": {
        "id": "D4kAdUuQW-fE"
      },
      "outputs": [],
      "source": [
        "# Importing the dataset\n",
        "bank=pd.read_csv(\"/content/bank-full .csv\")\n",
        "bank"
      ]
    },
    {
      "cell_type": "code",
      "execution_count": null,
      "metadata": {
        "id": "_QyJ1xPjXP4W"
      },
      "outputs": [],
      "source": [
        "bank.info()"
      ]
    },
    {
      "cell_type": "code",
      "execution_count": null,
      "metadata": {
        "id": "tu1HZnwKbjsA"
      },
      "outputs": [],
      "source": [
        "# One-Hot Encoding of categrical variables\n",
        "data1=pd.get_dummies(bank,columns=['job','marital','education','contact','poutcome','month'])\n",
        "data1"
      ]
    },
    {
      "cell_type": "code",
      "execution_count": null,
      "metadata": {
        "id": "2jtSFwspb_xM"
      },
      "outputs": [],
      "source": [
        "# To see all columns\n",
        "pd.set_option(\"display.max.columns\", None)\n",
        "data1"
      ]
    },
    {
      "cell_type": "code",
      "execution_count": null,
      "metadata": {
        "id": "RSCPIT0EcDGC"
      },
      "outputs": [],
      "source": [
        "data1.info()"
      ]
    },
    {
      "cell_type": "code",
      "execution_count": null,
      "metadata": {
        "id": "Kvsvuz3KcHxo"
      },
      "outputs": [],
      "source": [
        "# Custom Binary Encoding of Binary o/p variables \n",
        "data1['default'] = np.where(data1['default'].str.contains(\"yes\"), 1, 0)\n",
        "data1['housing'] = np.where(data1['housing'].str.contains(\"yes\"), 1, 0)\n",
        "data1['loan'] = np.where(data1['loan'].str.contains(\"yes\"), 1, 0)\n",
        "data1['y'] = np.where(data1['y'].str.contains(\"yes\"), 1, 0)\n",
        "data1"
      ]
    },
    {
      "cell_type": "code",
      "execution_count": null,
      "metadata": {
        "id": "Ut3yUU-BcyFQ"
      },
      "outputs": [],
      "source": [
        "data1.info()"
      ]
    },
    {
      "cell_type": "code",
      "execution_count": null,
      "metadata": {
        "id": "ZDgoad8UdYI-"
      },
      "outputs": [],
      "source": [
        "#Model Building"
      ]
    },
    {
      "cell_type": "code",
      "execution_count": null,
      "metadata": {
        "id": "9GL357WKc6Mx"
      },
      "outputs": [],
      "source": [
        "# Dividing our data into input and output variables\n",
        "x=pd.concat([data1.iloc[:,0:10],data1.iloc[:,11:]],axis=1)\n",
        "y=data1.iloc[:,10]"
      ]
    },
    {
      "cell_type": "code",
      "execution_count": null,
      "metadata": {
        "id": "sBh8AYAmdAeb"
      },
      "outputs": [],
      "source": [
        "# Logistic regression model\n",
        "classifier=LogisticRegression()\n",
        "classifier.fit(x,y)"
      ]
    },
    {
      "cell_type": "code",
      "execution_count": null,
      "metadata": {
        "id": "vyxFnV2gdFC3"
      },
      "outputs": [],
      "source": [
        "#Model Predictions"
      ]
    },
    {
      "cell_type": "code",
      "execution_count": null,
      "metadata": {
        "id": "E-jHXzjfdnZ_"
      },
      "outputs": [],
      "source": [
        "# Predict for x dataset\n",
        "y_pred=classifier.predict(x)\n",
        "y_pred"
      ]
    },
    {
      "cell_type": "code",
      "execution_count": null,
      "metadata": {
        "id": "80Uuw-LZdqV1"
      },
      "outputs": [],
      "source": [
        "y_pred_df=pd.DataFrame({'actual_y':y,'y_pred_prob':y_pred})\n",
        "y_pred_df"
      ]
    },
    {
      "cell_type": "code",
      "execution_count": null,
      "metadata": {
        "id": "C4sDbvygduT9"
      },
      "outputs": [],
      "source": [
        "#Testing Model Accuracy"
      ]
    },
    {
      "cell_type": "code",
      "execution_count": null,
      "metadata": {
        "id": "Xligsb6nd0WI"
      },
      "outputs": [],
      "source": [
        "# Confusion Matrix for the model accuracy\n",
        "confusion_matrix = confusion_matrix(y,y_pred)\n",
        "confusion_matrix"
      ]
    },
    {
      "cell_type": "code",
      "execution_count": null,
      "metadata": {
        "id": "6Qwl0ZAWd3oe"
      },
      "outputs": [],
      "source": [
        "# The model accuracy is calculated by (a+d)/(a+b+c+d)\n",
        "(39156+1162)/(39156+766+4127+1162)"
      ]
    },
    {
      "cell_type": "code",
      "execution_count": null,
      "metadata": {
        "id": "LB-a1nGCd6pn"
      },
      "outputs": [],
      "source": [
        "# As accuracy = 0.8933, which is greater than 0.5; Thus [:,1] Threshold value>0.5=1 else [:,0] Threshold value<0.5=0 \n",
        "classifier.predict_proba(x)[:,1] "
      ]
    },
    {
      "cell_type": "code",
      "execution_count": null,
      "metadata": {
        "id": "YRATtJOjd_Cx"
      },
      "outputs": [],
      "source": [
        "# ROC Curve plotting and finding AUC value\n",
        "fpr,tpr,thresholds=roc_curve(y,classifier.predict_proba(x)[:,1])\n",
        "plt.plot(fpr,tpr,color='red')\n",
        "auc=roc_auc_score(y,y_pred)\n",
        "\n",
        "plt.plot(fpr,tpr,color='red',label='logit model(area  = %0.2f)'%auc)\n",
        "plt.plot([0,1],[0,1],'k--')\n",
        "plt.xlabel('False Positive Rate or [1 - True Negative Rate]')\n",
        "plt.ylabel('True Positive Rate')\n",
        "plt.show()\n",
        "\n",
        "print('auc accuracy:',auc)"
      ]
    },
    {
      "cell_type": "code",
      "execution_count": null,
      "metadata": {
        "id": "53dgxzF3eCjF"
      },
      "outputs": [],
      "source": [
        ""
      ]
    },
    {
      "cell_type": "markdown",
      "source": [
        "Q) 2"
      ],
      "metadata": {
        "id": "xBrbr7C8uofQ"
      }
    },
    {
      "cell_type": "code",
      "source": [
        "# Importing the libraries\n",
        "import pandas as pd\n",
        "import numpy as np\n",
        "import matplotlib.pyplot as plt\n",
        "import seaborn as sns\n",
        "from sklearn.linear_model import LogisticRegression\n",
        "from sklearn.metrics import confusion_matrix\n",
        "from sklearn.metrics import roc_curve\n",
        "from sklearn.metrics import roc_auc_score"
      ],
      "metadata": {
        "id": "D_5ykGjfrJyn"
      },
      "execution_count": null,
      "outputs": []
    },
    {
      "cell_type": "code",
      "source": [
        "# Importing the dataset\n",
        "bank=pd.read_csv('/content/bank-full .csv')\n",
        "bank"
      ],
      "metadata": {
        "id": "1Bz8Hb8YrNuW"
      },
      "execution_count": null,
      "outputs": []
    },
    {
      "cell_type": "code",
      "source": [
        "bank.info()"
      ],
      "metadata": {
        "id": "c5KnCTQzrybs"
      },
      "execution_count": null,
      "outputs": []
    },
    {
      "cell_type": "code",
      "source": [
        "# One-Hot Encoding of categrical variables\n",
        "data1=pd.get_dummies(bank,columns=['job','marital','education','contact','poutcome'])\n",
        "data1"
      ],
      "metadata": {
        "id": "ibyBT4lsr5PH"
      },
      "execution_count": null,
      "outputs": []
    },
    {
      "cell_type": "code",
      "source": [
        "# To see all columns\n",
        "pd.set_option(\"display.max.columns\", None)\n",
        "data1"
      ],
      "metadata": {
        "id": "13RqgrGOr__P"
      },
      "execution_count": null,
      "outputs": []
    },
    {
      "cell_type": "code",
      "source": [
        "data1.info()"
      ],
      "metadata": {
        "id": "MKAbwLOosFaR"
      },
      "execution_count": null,
      "outputs": []
    },
    {
      "cell_type": "code",
      "source": [
        "# Custom Binary Encoding of Binary o/p variables \n",
        "data1['default'] = np.where(data1['default'].str.contains(\"yes\"), 1, 0)\n",
        "data1['housing'] = np.where(data1['housing'].str.contains(\"yes\"), 1, 0)\n",
        "data1['loan'] = np.where(data1['loan'].str.contains(\"yes\"), 1, 0)\n",
        "data1['y'] = np.where(data1['y'].str.contains(\"yes\"), 1, 0)\n",
        "data1"
      ],
      "metadata": {
        "id": "VInerBNusIlG"
      },
      "execution_count": null,
      "outputs": []
    },
    {
      "cell_type": "code",
      "source": [
        "# Find and Replace Encoding for month categorical varaible\n",
        "data1['month'].value_counts()"
      ],
      "metadata": {
        "id": "DVFqd39usMbf"
      },
      "execution_count": null,
      "outputs": []
    },
    {
      "cell_type": "code",
      "source": [
        "order={'month':{'jan':1,'feb':2,'mar':3,'apr':4,'may':5,'jun':6,'jul':7,'aug':8,'sep':9,'oct':10,'nov':11,'dec':12}}"
      ],
      "metadata": {
        "id": "MBY2n-N1sP9-"
      },
      "execution_count": null,
      "outputs": []
    },
    {
      "cell_type": "code",
      "source": [
        "data1=data1.replace(order)"
      ],
      "metadata": {
        "id": "UlPyZWQbsTha"
      },
      "execution_count": null,
      "outputs": []
    },
    {
      "cell_type": "code",
      "source": [
        "data1"
      ],
      "metadata": {
        "id": "APgSLBMHsdPj"
      },
      "execution_count": null,
      "outputs": []
    },
    {
      "cell_type": "code",
      "source": [
        "data1.info()"
      ],
      "metadata": {
        "id": "Uk6Ybig-sgXu"
      },
      "execution_count": null,
      "outputs": []
    },
    {
      "cell_type": "code",
      "source": [
        "#Model Building"
      ],
      "metadata": {
        "id": "RC23c94usjkO"
      },
      "execution_count": null,
      "outputs": []
    },
    {
      "cell_type": "code",
      "source": [
        "# Dividing our data into input and output variables\n",
        "x=pd.concat([data1.iloc[:,0:11],data1.iloc[:,12:]],axis=1)\n",
        "y=data1.iloc[:,11]"
      ],
      "metadata": {
        "id": "j9LHypmssoq_"
      },
      "execution_count": null,
      "outputs": []
    },
    {
      "cell_type": "code",
      "source": [
        "# Logistic regression model\n",
        "classifier=LogisticRegression()\n",
        "classifier.fit(x,y)"
      ],
      "metadata": {
        "id": "uAKSs5LAsrNA"
      },
      "execution_count": null,
      "outputs": []
    },
    {
      "cell_type": "code",
      "source": [
        "#Model Predictions"
      ],
      "metadata": {
        "id": "K1svXxlNsuiK"
      },
      "execution_count": null,
      "outputs": []
    },
    {
      "cell_type": "code",
      "source": [
        "# Predict for x dataset\n",
        "y_pred=classifier.predict(x)\n",
        "y_pred"
      ],
      "metadata": {
        "id": "mTMtajEws34S"
      },
      "execution_count": null,
      "outputs": []
    },
    {
      "cell_type": "code",
      "source": [
        "y_pred_df=pd.DataFrame({'actual_y':y,'y_pred_prob':y_pred})\n",
        "y_pred_df"
      ],
      "metadata": {
        "id": "bxFIG-ZYs8WM"
      },
      "execution_count": null,
      "outputs": []
    },
    {
      "cell_type": "code",
      "source": [
        "#Testing Model Accuracy"
      ],
      "metadata": {
        "id": "vKGwZDCTs_Wz"
      },
      "execution_count": null,
      "outputs": []
    },
    {
      "cell_type": "code",
      "source": [
        "# Confusion Matrix for the model accuracy\n",
        "confusion_matrix = confusion_matrix(y,y_pred)\n",
        "confusion_matrix"
      ],
      "metadata": {
        "id": "4MHG_fdhtDMM"
      },
      "execution_count": null,
      "outputs": []
    },
    {
      "cell_type": "code",
      "source": [
        "# The model accuracy is calculated by (a+d)/(a+b+c+d)\n",
        "(39107+1282)/(39107+815+4007+1282)"
      ],
      "metadata": {
        "id": "FKAbTD8MtHUR"
      },
      "execution_count": null,
      "outputs": []
    },
    {
      "cell_type": "code",
      "source": [
        "# As accuracy = 0.8933, which is greater than 0.5; Thus [:,1] Threshold value>0.5=1 else [:,0] Threshold value<0.5=0 \n",
        "classifier.predict_proba(x)[:,1] "
      ],
      "metadata": {
        "id": "3NDx74h_tO8n"
      },
      "execution_count": null,
      "outputs": []
    },
    {
      "cell_type": "code",
      "source": [
        "# ROC Curve plotting and finding AUC value\n",
        "fpr,tpr,thresholds=roc_curve(y,classifier.predict_proba(x)[:,1])\n",
        "plt.plot(fpr,tpr,color='red')\n",
        "auc=roc_auc_score(y,y_pred)\n",
        "\n",
        "plt.plot(fpr,tpr,color='red',label='logit model(area  = %0.2f)'%auc)\n",
        "plt.plot([0,1],[0,1],'k--')\n",
        "plt.xlabel('False Positive Rate or [1 - True Negative Rate]')\n",
        "plt.ylabel('True Positive Rate')\n",
        "plt.show()\n",
        "\n",
        "print('auc accuracy:',auc)"
      ],
      "metadata": {
        "id": "Om8CeDx7tVTZ"
      },
      "execution_count": null,
      "outputs": []
    },
    {
      "cell_type": "code",
      "source": [
        ""
      ],
      "metadata": {
        "id": "3H0TBBi6tYdh"
      },
      "execution_count": null,
      "outputs": []
    }
  ],
  "metadata": {
    "colab": {
      "collapsed_sections": [],
      "name": "Assignment_06(Logistic_Regression).ipynb",
      "provenance": []
    },
    "kernelspec": {
      "display_name": "Python 3",
      "name": "python3"
    },
    "language_info": {
      "name": "python"
    }
  },
  "nbformat": 4,
  "nbformat_minor": 0
}